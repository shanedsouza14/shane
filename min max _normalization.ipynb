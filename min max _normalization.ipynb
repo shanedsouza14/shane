{
 "cells": [
  {
   "cell_type": "code",
   "execution_count": 3,
   "id": "68559feb",
   "metadata": {},
   "outputs": [
    {
     "data": {
      "text/html": [
       "<div>\n",
       "<style scoped>\n",
       "    .dataframe tbody tr th:only-of-type {\n",
       "        vertical-align: middle;\n",
       "    }\n",
       "\n",
       "    .dataframe tbody tr th {\n",
       "        vertical-align: top;\n",
       "    }\n",
       "\n",
       "    .dataframe thead th {\n",
       "        text-align: right;\n",
       "    }\n",
       "</style>\n",
       "<table border=\"1\" class=\"dataframe\">\n",
       "  <thead>\n",
       "    <tr style=\"text-align: right;\">\n",
       "      <th></th>\n",
       "      <th>class</th>\n",
       "      <th>alcohol</th>\n",
       "      <th>malic</th>\n",
       "    </tr>\n",
       "  </thead>\n",
       "  <tbody>\n",
       "    <tr>\n",
       "      <th>0</th>\n",
       "      <td>1</td>\n",
       "      <td>14.23</td>\n",
       "      <td>1.71</td>\n",
       "    </tr>\n",
       "    <tr>\n",
       "      <th>1</th>\n",
       "      <td>1</td>\n",
       "      <td>13.20</td>\n",
       "      <td>1.78</td>\n",
       "    </tr>\n",
       "    <tr>\n",
       "      <th>2</th>\n",
       "      <td>1</td>\n",
       "      <td>13.16</td>\n",
       "      <td>2.36</td>\n",
       "    </tr>\n",
       "    <tr>\n",
       "      <th>3</th>\n",
       "      <td>1</td>\n",
       "      <td>14.37</td>\n",
       "      <td>1.95</td>\n",
       "    </tr>\n",
       "    <tr>\n",
       "      <th>4</th>\n",
       "      <td>1</td>\n",
       "      <td>13.24</td>\n",
       "      <td>2.59</td>\n",
       "    </tr>\n",
       "  </tbody>\n",
       "</table>\n",
       "</div>"
      ],
      "text/plain": [
       "   class  alcohol  malic\n",
       "0      1    14.23   1.71\n",
       "1      1    13.20   1.78\n",
       "2      1    13.16   2.36\n",
       "3      1    14.37   1.95\n",
       "4      1    13.24   2.59"
      ]
     },
     "execution_count": 3,
     "metadata": {},
     "output_type": "execute_result"
    }
   ],
   "source": [
    "import pandas as pd\n",
    "df=pd.read_csv('C:\\\\Users\\\\GPT BANTWAL\\\\Documents\\\\malic.csv')\n",
    "df"
   ]
  },
  {
   "cell_type": "markdown",
   "id": "03fc96a0",
   "metadata": {},
   "source": [
    "# min-max normalization"
   ]
  },
  {
   "cell_type": "code",
   "execution_count": 7,
   "id": "f4fbf27e",
   "metadata": {},
   "outputs": [
    {
     "data": {
      "text/plain": [
       "array([[0.88429752, 0.        ],\n",
       "       [0.03305785, 0.07954545],\n",
       "       [0.        , 0.73863636],\n",
       "       [1.        , 0.27272727],\n",
       "       [0.0661157 , 1.        ]])"
      ]
     },
     "execution_count": 7,
     "metadata": {},
     "output_type": "execute_result"
    }
   ],
   "source": [
    "from sklearn.preprocessing import MinMaxScaler\n",
    "scaling=MinMaxScaler()\n",
    "scaling.fit_transform(df[['alcohol','malic']])"
   ]
  },
  {
   "cell_type": "markdown",
   "id": "04b10f86",
   "metadata": {},
   "source": [
    "# standardization(z-score normalization)"
   ]
  },
  {
   "cell_type": "code",
   "execution_count": 11,
   "id": "092b07f6",
   "metadata": {},
   "outputs": [
    {
     "data": {
      "text/plain": [
       "array([[ 1.08997918, -1.07836773],\n",
       "       [-0.81286583, -0.87324344],\n",
       "       [-0.88676272,  0.82635788],\n",
       "       [ 1.3486183 , -0.37508443],\n",
       "       [-0.73896893,  1.50033771]])"
      ]
     },
     "execution_count": 11,
     "metadata": {},
     "output_type": "execute_result"
    }
   ],
   "source": [
    "from sklearn.preprocessing import StandardScaler\n",
    "scaling=StandardScaler()\n",
    "scaling.fit_transform(df[['alcohol','malic']])"
   ]
  },
  {
   "cell_type": "code",
   "execution_count": null,
   "id": "e605931e",
   "metadata": {},
   "outputs": [],
   "source": []
  }
 ],
 "metadata": {
  "kernelspec": {
   "display_name": "Python 3 (ipykernel)",
   "language": "python",
   "name": "python3"
  },
  "language_info": {
   "codemirror_mode": {
    "name": "ipython",
    "version": 3
   },
   "file_extension": ".py",
   "mimetype": "text/x-python",
   "name": "python",
   "nbconvert_exporter": "python",
   "pygments_lexer": "ipython3",
   "version": "3.11.4"
  }
 },
 "nbformat": 4,
 "nbformat_minor": 5
}
